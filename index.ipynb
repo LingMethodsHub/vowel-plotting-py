{
  "cells": [
    {
      "cell_type": "raw",
      "metadata": {},
      "source": [
        "---\n",
        "title: Vowel plotting in Python\n",
        "date: '2022-10-14'\n",
        "author:\n",
        "  - name: Emily Remirez\n",
        "    url: 'https://sites.google.com/berkeley.edu/eremirez/'\n",
        "format:\n",
        "  html:\n",
        "    fig-width: 5\n",
        "    fig-height: 5\n",
        "license: BSD3\n",
        "categories:\n",
        "  - python\n",
        "  - vowels\n",
        "  - data visualization\n",
        "---"
      ],
      "id": "05ab2e4b"
    },
    {
      "cell_type": "markdown",
      "metadata": {},
      "source": [
        "# Let's plot some vowel spaces!\n",
        "\n",
        "## Get the code set up\n",
        "\n",
        "### Run everything in this section first!\n",
        "In the next sections we'll\n",
        "\n",
        "1. Import data\n",
        "2. Visualize some examples\n",
        "3. Normalize the data \n"
      ],
      "id": "befef401"
    },
    {
      "cell_type": "code",
      "metadata": {},
      "source": [
        "#Import libraries\n",
        "\n",
        "import matplotlib.pyplot as plt\n",
        "import pandas as pd\n",
        "from pandas import DataFrame\n",
        "import seaborn as sns\n",
        "import matplotlib.ticker as ticker\n",
        "from matplotlib.ticker import ScalarFormatter"
      ],
      "id": "8d3d5573",
      "execution_count": null,
      "outputs": []
    },
    {
      "cell_type": "code",
      "metadata": {},
      "source": [
        "def vowelplot (vowelcsv, color=None, F1=\"F1\", F2=\"F2\", vowel = \"Vowel\", title=\"Vowel Plot\", unit=\"Hz\", logscale=False):\n",
        "    #Set some parameters for the chart itself\n",
        "    sns.set(style='ticks', context='talk')\n",
        "    plt.figure(figsize=(10,10))\n",
        "    \n",
        "    # If there's an argument for color, determine whether it's likely to be categorical\n",
        "    ## If it's a string (text), use a categorical color palette\n",
        "    ## If it's a number, use a sequential color palette\n",
        "    if color != None:\n",
        "        if type(vowelcsv[color].iloc[0])==str:\n",
        "            pal=\"husl\"\n",
        "        else:\n",
        "            pal=\"viridis\"\n",
        "            \n",
        "        pl = sns.scatterplot(x=F2,y=F1,hue=color,data=vowelcsv,palette=pal)\n",
        "        \n",
        "    # If no color argument is given, don't specify hue, and no palette needed\n",
        "    else:\n",
        "        pl = sns.scatterplot(x=F2,y=F1, data=vowelcsv)\n",
        "    \n",
        "    \n",
        "    #Invert axes to correlate with articulatory space!\n",
        "    pl.invert_yaxis()\n",
        "    pl.invert_xaxis()\n",
        "    \n",
        "    #Add unit to the axis labels\n",
        "    F1name=str(\"F1 (\"+unit+\")\")\n",
        "    F2name=str(\"F2 (\"+unit+\")\")\n",
        "    laby=plt.ylabel(F1name)\n",
        "    labx=plt.xlabel(F2name)\n",
        "    \n",
        "    if logscale == True:\n",
        "        pl.loglog()\n",
        "        pl.yaxis.set_major_formatter(ticker.ScalarFormatter())\n",
        "        pl.yaxis.set_minor_formatter(ticker.ScalarFormatter())\n",
        "        pl.xaxis.set_major_formatter(ticker.ScalarFormatter())\n",
        "        pl.xaxis.set_minor_formatter(ticker.ScalarFormatter())\n",
        "    \n",
        "    #Add vowel labels\n",
        "    if vowel != None: \n",
        "        for line,row in vowelcsv.iterrows():\n",
        "            pl.text(vowelcsv[F2][line]+0.1, vowelcsv[F1][line], vowelcsv[vowel][line], horizontalalignment='left',\n",
        "                size='medium', color='black', weight='semibold')\n",
        "    \n",
        "    pl.set_title(title)\n",
        "    \n",
        "    return pl\n",
        "\n",
        "\n",
        "\n",
        "def barkify (data, formants):\n",
        "    # For each formant listed, make a copy of the column prefixed with z\n",
        "    for formant in formants:\n",
        "        for ch in formant:\n",
        "            if ch.isnumeric():\n",
        "                num=ch\n",
        "        formantchar = (formant.split(num)[0])\n",
        "        name = str(formant).replace(formantchar,'z')\n",
        "        # Convert each value from Hz to Bark\n",
        "        data[name] = 26.81/ (1+ 1960/data[formant]) - 0.53\n",
        "    # Return the dataframe with the changes\n",
        "    return data\n",
        "\n",
        "def Lobify (data,group,formants):\n",
        "    zscore = lambda x: (x - x.mean()) / x.std()\n",
        "    for formant in formants:\n",
        "        name = str(\"zsc\"+formant)\n",
        "        col = data.groupby([group])[formant].transform(zscore)\n",
        "        data.insert(len(data.columns),name,col)\n",
        "    return data "
      ],
      "id": "dbd8aea4",
      "execution_count": null,
      "outputs": []
    },
    {
      "cell_type": "markdown",
      "metadata": {},
      "source": [
        "## Import data\n",
        "This expects a CSV file (comma separated values) with the following columns. \n",
        "\n",
        "- \"F1\": F1 value in Hz\n",
        "- \"F2\": F2 value in Hz\n",
        "- \"Vowel\": vowel in IPA\n",
        "\n",
        "If your columns aren't named exactly like this, that's okay! <br>\n",
        "**But** you'll need to be sure to provide the *exact* names of your columns when you make the plot!\n",
        "\n",
        "You may also have other values, like:\n",
        "\n",
        "- F3: F3 value in Hz\n",
        "- Token: Token number\n",
        "- Speaker: Identifier of speaker\n",
        "\n",
        "You can use these extra columns to color code your plot!\n",
        "\n",
        "\n",
        "It is also fine if there are other columns not listed above in your csv! \n",
        "\n",
        "### To import your data\n",
        "Make sure that the name of the file is correct! The code should look like the example below, with the name of your file in quotes within the parentheses. \n",
        "\n",
        "```python\n",
        "voweldata=pd.read_csv('NameOfFile.csv')\n",
        "```\n",
        "\n",
        "For this example, let's load in some vowel data from Flege 1994. Thanks to Prof Keith Johnson for suggesting this dataset and doing some pre-processing to make it work with this function! This is a rich dataset that will let us visualize a lot of different features!\n",
        "\n",
        "#### Import Flege 1994 as F94\n"
      ],
      "id": "6ad8ba4e"
    },
    {
      "cell_type": "code",
      "metadata": {},
      "source": [
        "F94=pd.read_csv('Flege_94_vowels.csv')\n",
        "F94.head()"
      ],
      "id": "f1d75d58",
      "execution_count": null,
      "outputs": []
    },
    {
      "cell_type": "markdown",
      "metadata": {},
      "source": [
        "#### Import your data as voweldata\n",
        "Make sure that your csv is in the same folder as this notebook! \n"
      ],
      "id": "8f331ade"
    },
    {
      "cell_type": "code",
      "metadata": {},
      "source": [
        "voweldata=pd.read_csv('demo-vowels.csv') # Replace 'demo-vowels.csv'!\n",
        "voweldata.head()"
      ],
      "id": "4010cbb3",
      "execution_count": null,
      "outputs": []
    },
    {
      "cell_type": "markdown",
      "metadata": {},
      "source": [
        "## Plot vowels!\n",
        "\n",
        "### The shortest line of  code\n",
        "\n",
        "That you can use to make a plot only gives the name of your data.\n",
        "\n",
        "\n",
        "- This will only work if your F1 column is called exactly \"F1\", your F2 column is called exactly \"F2\", and your Vowel column is called \"Vowel\"\n",
        "\n",
        "```python\n",
        "vowelplot(MY_DATA)\n",
        "```\n",
        "\n",
        "- *If your columns have different names* be sure to provide them using \n",
        "\n",
        "```python\n",
        "vowelplot(My_DATA, F1 = \"YOUR F1 NAME\", F2 = \"YOUR F2 NAME\", vowel = \"YOUR VOWEL NAME\")\n",
        "```\n",
        "\n",
        "- This will plot a your data in F1-F2 space, with all points the same color\n",
        "\n",
        "### The longest line of code\n",
        "You could use, if you specified every single argument, is: \n",
        "\n",
        "```python\n",
        "vowelplot(MY_DATA, \n",
        "          color=\"MY COLOR CHOICE\", \n",
        "          F1=\"YOUR F1 NAME\", \n",
        "          F2 = \"YOUR F2 NAME\", \n",
        "          vowel=\"YOUR VOWEL NAME\", \n",
        "          title=\"MY TITLE\", \n",
        "          unit =\"MY FORMANT UNIT\", \n",
        "          logscale=True/False)\n",
        "```\n",
        "\n",
        "- These other arguments are all optional.\n",
        "    1. color: What would you like color to represent?\n",
        "        - Don't forget to put this term in quotes!\n",
        "        - This needs to be the exact name, including capitalization, of the name of the column in your spreadsheet\n",
        "    2. title: Add a title for your plot!\n",
        "        - If you don't specify anyhing, your plot will be called \"Vowel Plot\"\n",
        "        - If you don't want any title, use title=None\n",
        "    3. logscale: Do you want the axes to be on a log scale?\n",
        "        - The log scale is closer to how we perceive sound, so it may be more informative\n",
        "        - use logscale=True to use the log for your axes\n",
        "        - use logscale=False to use reg'lar axes.\n",
        "- You can also use ```vowel=None``` to remove the labels from the points, for example, if you would like to specify vowels by color alone\n",
        "\n",
        "\n",
        "### Demos with Flege 1994\n"
      ],
      "id": "ce25c2f5"
    },
    {
      "cell_type": "code",
      "metadata": {
        "fig-height": 5,
        "fig-width": 5
      },
      "source": [
        "vowelplot(F94, color=\"lg\", title=\"Vowels by language\",logscale=True)"
      ],
      "id": "19948f8a",
      "execution_count": null,
      "outputs": []
    },
    {
      "cell_type": "code",
      "metadata": {},
      "source": [
        "vowelplot(F94, color=\"F0\", title=\"Vowels by F0\",logscale=True)"
      ],
      "id": "8acd9a09",
      "execution_count": null,
      "outputs": []
    },
    {
      "cell_type": "markdown",
      "metadata": {},
      "source": [
        "### Plot your data! \n",
        "Remember\n",
        "- You can choose things like the title of your graph, what color represents, and whether to use the log scale!\n",
        "- If your columns are named anything other than \"F1,\" \"F2,\" and \"V,\" exactly, you'll need to specify that!\n"
      ],
      "id": "1085cc3b"
    },
    {
      "cell_type": "code",
      "metadata": {},
      "source": [
        "vowelplot(voweldata, logscale=True)"
      ],
      "id": "2e914d0f",
      "execution_count": null,
      "outputs": []
    },
    {
      "cell_type": "markdown",
      "metadata": {},
      "source": [
        "## Normalizing data \n",
        "When you ran the cells in the \"get the code set up\" section, you also defined some code for normalizing data. \n",
        "\n",
        "There are two kinds of normalizing we'll consider:\n",
        "- **Psychoacoustic normalizing** to convert Hz to Bark.\n",
        "    - This is similar to using the log scale for the axes--I wouldn't do both!\n",
        "    - This psychoacoustic scale is more similar to how we perceive sound\n",
        "    - Using Bark values will produce a plot that looks more like the IPA vowel chart\n",
        "- **Lobanov normalizing** to compare whole vowel systems\n",
        "    - This type of normalizing only really works if you have *complete vowel spaces* \n",
        "    - We'll take the z-score of each formant relative to the some group, usually speaker\n",
        "  \n",
        "    \n",
        "Let's try normaling the Flege 94 data both ways and visualizing the results\n",
        "\n",
        "### Convert F1 and F2 to Bark using ```barkify```\n",
        "\n",
        "- To use barkify, we need to give it the name of our data, and a list of the columns we want to convert\n",
        "- In Python, a list goes withins square brackets ```[] ``` with each item separated by a comma\n",
        "- The new columns will have 'z' in front of the number, instead of 'F,' for example\n",
        "\n",
        "Let's try converting F1 and F2 of Flege 94 to Bark and visualizing the results\n",
        "\n",
        "```\n",
        "barkify(MY_DATA, [\"formant\",\"formant\"...]\n",
        "```\n"
      ],
      "id": "593b490a"
    },
    {
      "cell_type": "code",
      "metadata": {},
      "source": [
        "barkify(F94,[\"F1\",\"F2\"])\n",
        "F94.head()"
      ],
      "id": "1116ca5b",
      "execution_count": null,
      "outputs": []
    },
    {
      "cell_type": "markdown",
      "metadata": {},
      "source": [
        "#### Plot the data \n",
        "Be sure to add ```unit=\"Bark\"```\n"
      ],
      "id": "5f709436"
    },
    {
      "cell_type": "code",
      "metadata": {},
      "source": [
        "vowelplot(F94,F1=\"z1\",F2=\"z2\",unit=\"Bark\")"
      ],
      "id": "e3fca057",
      "execution_count": null,
      "outputs": []
    },
    {
      "cell_type": "markdown",
      "metadata": {},
      "source": [
        "### Lobanov normalize vowel spaces by Ss using ```Lobify```\n",
        "Next, lets try normalizing the vowel spaces based on Ss so that we can compare the vowel spaces for each <br>\n",
        "To use ```Lobify``` we need to specify:\n",
        "- data: the data we want to transform\n",
        "- group: the category we want to compare vowel spaces by\n",
        "- formants: a list of the formant values we want to normalize\n",
        "\n",
        "```Lobify(MY_DATA, group=\"GROUP\", formants=[\"formant1\",\"formant2\"...]```\n",
        "\n",
        "This will add a column for each formant with 'zsc' (for 'z-score') in front of the formant name.\n",
        "\n",
        "#### Subsetting\n",
        "Before we normalize the data, let's also subset it so that we're only looking at English<br>\n",
        "Let's also only look at the midpoint of each vowel.<br>\n",
        "This way we'll have just one F1 and F2 value for each Ss-vowel pair.\n",
        "\n",
        "1 condition\n",
        "```New_Data = Old_Data[Old_Data.Column==\"Category To Keep\"]```\n",
        "\n",
        "2 or more conditions<br>\n",
        "```New_Data = Old_Data[(Old_Data.Column==\"Category To Keep\") & Old_Data.SecondColumn==\"Category To Keep\"])```"
      ],
      "id": "0e3eeab9"
    },
    {
      "cell_type": "code",
      "metadata": {},
      "source": [
        "F94_2 = F94[(F94.point==\"midpoint\") & (F94.lg==\"English\")]"
      ],
      "id": "f9c5cac1",
      "execution_count": null,
      "outputs": []
    },
    {
      "cell_type": "code",
      "metadata": {},
      "source": [
        "Lobify(F94_2,group=\"Ss\",formants=[\"F1\",\"F2\"])"
      ],
      "id": "ae892eac",
      "execution_count": null,
      "outputs": []
    },
    {
      "cell_type": "code",
      "metadata": {},
      "source": [
        "vowelplot(F94_2,F1=\"zscF1\",F2=\"zscF2\",unit=\"Lobanov normalized\",color=\"Ss\")"
      ],
      "id": "1dd82f88",
      "execution_count": null,
      "outputs": []
    }
  ],
  "metadata": {
    "kernelspec": {
      "display_name": "Python 3",
      "language": "python",
      "name": "python3"
    }
  },
  "nbformat": 4,
  "nbformat_minor": 5
}