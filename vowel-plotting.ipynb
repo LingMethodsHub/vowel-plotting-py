{
 "cells": [
  {
   "cell_type": "markdown",
   "metadata": {},
   "source": [
    "# Let's make a vowel plot!\n",
    "This notebook will guide you through producing a plot of vowel data. It first defines a function for easily creating vowel plots. To increase functionality for your specific goals, you can edit the function. This notebook was created by Emily Remirez, a PhD candidate in Linguistics at UC Berkeley. Her email address is eremirez@berkeley.edu, and her website is https://sites.google.com/berkeley.edu/eremirez/\n",
    "\n",
    "## Record yourself\n",
    "\n",
    "1. Your first step will be to make a recording of yourself saying a word with every vowel you want to plot. \n",
    "    - For example, you could read off the the sentences in the gray box in the template given in Step 3\n",
    "2. Next, open those recordings in Praat and measure formants\n",
    "3. Record your measurements\n",
    "    - You can use this template to record your measurements: \n",
    "    https://docs.google.com/spreadsheets/d/1xKb4A2IEBvLBVVY4xmYTa1xca4cFMyr2nPETpUKYPfw/edit?usp=sharing\n",
    "4. Save your measurements in a csv file\n",
    "5. Upload that csv file to the same folder that this notebook is in"
   ]
  },
  {
   "cell_type": "markdown",
   "metadata": {},
   "source": [
    "## Get the code set up"
   ]
  },
  {
   "cell_type": "code",
   "execution_count": 3,
   "metadata": {},
   "outputs": [],
   "source": [
    "#Import libraries\n",
    "\n",
    "%matplotlib inline\n",
    "import matplotlib.pyplot as plt\n",
    "import pandas as pd\n",
    "from pandas import DataFrame\n",
    "import seaborn as sns\n",
    "import matplotlib.ticker as ticker\n",
    "from matplotlib.ticker import ScalarFormatter\n",
    "\n",
    "#Set up some stuff for graphs--specifcally the size and the style of the axes\n",
    "sns.set(style='ticks', context='notebook')\n",
    "\n"
   ]
  },
  {
   "cell_type": "code",
   "execution_count": 7,
   "metadata": {},
   "outputs": [],
   "source": [
    "def vowelplot (vowelcsv, color=\"F3\", title=\"Vowel Plot\", logscale=False):\n",
    "    #Set some parameters for the chart itself\n",
    "    sns.set(style='ticks', context='talk')\n",
    "    plt.figure(figsize=(10,10))\n",
    "    \n",
    "    #plot the data\n",
    "    if color == \"F3\":\n",
    "        pl = sns.scatterplot(x=\"F2\",y='F1',hue=\"F3\",data=vowelcsv,palette=\"viridis\")\n",
    "    \n",
    "    if color == \"Speaker\":\n",
    "       pl = sns.scatterplot(x=\"F2\",y='F1',hue=\"Speaker\",data=vowelcsv,palette=\"viridis\")\n",
    "        \n",
    "    if color == \"Token\":\n",
    "        pl = sns.scatterplot(x=\"F2\",y='F1',hue=\"Token\",data=vowelcsv,palette=\"viridis\")\n",
    "        \n",
    "    if color == \"Vowel\":\n",
    "        pl = sns.scatterplot(x=\"F2\",y='F1',hue=\"V\",data=vowelcsv,palette=\"viridis\")\n",
    "   \n",
    "    if color == \"None\":\n",
    "        pl = sns.scatterplot(x=\"F2\",y='F1',data=vowelcsv,palette=\"viridis\")\n",
    "        \n",
    "    ## To add a new option of color, uncomment the two lines below \n",
    "        ## and edit it with your feature:\n",
    "#    if color == \"YOURFEATURE\"\n",
    "#        pl = sns.scatterplot(x=\"F2\",y='F1',hue=\"YOURFEATURE\",data=vowelcsv,palette=\"viridis\")\n",
    "        \n",
    "    \n",
    "    #Invert axes to correlate with articulatory space!\n",
    "    pl.invert_yaxis()\n",
    "    pl.invert_xaxis()\n",
    "    \n",
    "    #Add Hz to the axis labels\n",
    "    plt.yaxis(\"F1 (Hz)\")\n",
    "    plt.xaxis(\"F2 (Hz)\")\n",
    "    \n",
    "    if logscale == True:\n",
    "        pl.loglog()\n",
    "        pl.yaxis.set_major_formatter(ticker.ScalarFormatter())\n",
    "        pl.yaxis.set_minor_formatter(ticker.ScalarFormatter())\n",
    "        pl.xaxis.set_major_formatter(ticker.ScalarFormatter())\n",
    "        pl.xaxis.set_minor_formatter(ticker.ScalarFormatter())\n",
    "    \n",
    "    #Add vowel labels\n",
    "    for line in range(0,vowelcsv.shape[0]):\n",
    "        pl.text(vowelcsv.F2[line]+0.2, vowelcsv.F1[line], vowelcsv.V[line], horizontalalignment='left',\n",
    "            size='medium', color='black', weight='semibold')\n",
    "    \n",
    "    pl.set_title(title)\n",
    "    \n",
    "    return pl"
   ]
  },
  {
   "cell_type": "markdown",
   "metadata": {},
   "source": [
    "## Import data\n",
    "This expects a CSV file (comma separated vowels) with the following columns. \n",
    "\n",
    "\n",
    "It is important for the columns to be named exactly as below in order for the function defined above to work without any editing! If you used the template, you're good to go!\n",
    "\n",
    "- F1: F1 value in Hz\n",
    "- F2: F2 value in Hz\n",
    "- V: vowel in IPA\n",
    "\n",
    "You may also have:\n",
    "- F3: F3 value in Hz\n",
    "- Token: Token number\n",
    "- Speaker: Identifier of speaker\n",
    "\n",
    "\n",
    "It is also fine if there are other columns in your csv! If there is another feature you want to study, you can add that as well, but you will need to edit the function defined above to use it!"
   ]
  },
  {
   "cell_type": "markdown",
   "metadata": {},
   "source": [
    "### To import your data\n",
    "Make sure that the name of the file is correct! The code should look like the example below, with the name of your file in quotes within the parentheses. \n",
    "```\n",
    "voweldata=pd.read_csv('NameOfFile.csv')\n",
    "```"
   ]
  },
  {
   "cell_type": "code",
   "execution_count": 5,
   "metadata": {},
   "outputs": [],
   "source": [
    "voweldata=pd.read_csv('vowels.csv')"
   ]
  },
  {
   "cell_type": "markdown",
   "metadata": {},
   "source": [
    "## Plot vowels!\n",
    "You can specify what you would like color to represent in your plot by specifying the color argument. If you don't specify what color will represent, the plot will use F3 by default. I have specified four different colors, but you can add more by editing the function defined above!\n",
    "\n",
    "- color = \"F3\": A color scale showing different vowels relative F3\n",
    "- color = \"Speaker\": Different colors for each speaker\n",
    "- color = \"Token\": Different colors for each token, which could denote, for example, repition number or which recording a sample is from\n",
    "- color = \"None\": All points will be the same color\n",
    "\n",
    "You can also add a title or change the scales of the axes to log, which is more accurate to how our ears hear sound!\n",
    "\n",
    "```\n",
    "vowelplot(voweldata, title=\"MY TITLE\", logscale=True)\n",
    "```"
   ]
  },
  {
   "cell_type": "code",
   "execution_count": 8,
   "metadata": {},
   "outputs": [
    {
     "ename": "AttributeError",
     "evalue": "module 'matplotlib.pyplot' has no attribute 'yaxis'",
     "output_type": "error",
     "traceback": [
      "\u001b[0;31m---------------------------------------------------------------------------\u001b[0m",
      "\u001b[0;31mAttributeError\u001b[0m                            Traceback (most recent call last)",
      "\u001b[0;32m<ipython-input-8-641a0365ab7d>\u001b[0m in \u001b[0;36m<module>\u001b[0;34m\u001b[0m\n\u001b[0;32m----> 1\u001b[0;31m \u001b[0mvowelplot\u001b[0m\u001b[0;34m(\u001b[0m\u001b[0mvoweldata\u001b[0m\u001b[0;34m,\u001b[0m \u001b[0mcolor\u001b[0m \u001b[0;34m=\u001b[0m\u001b[0;34m\"F3\"\u001b[0m\u001b[0;34m,\u001b[0m\u001b[0mlogscale\u001b[0m\u001b[0;34m=\u001b[0m\u001b[0;32mTrue\u001b[0m\u001b[0;34m)\u001b[0m\u001b[0;34m\u001b[0m\u001b[0;34m\u001b[0m\u001b[0m\n\u001b[0m",
      "\u001b[0;32m<ipython-input-7-160f18d2062f>\u001b[0m in \u001b[0;36mvowelplot\u001b[0;34m(vowelcsv, color, title, logscale)\u001b[0m\n\u001b[1;32m     31\u001b[0m \u001b[0;34m\u001b[0m\u001b[0m\n\u001b[1;32m     32\u001b[0m     \u001b[0;31m#Add Hz to the axis labels\u001b[0m\u001b[0;34m\u001b[0m\u001b[0;34m\u001b[0m\u001b[0;34m\u001b[0m\u001b[0m\n\u001b[0;32m---> 33\u001b[0;31m     \u001b[0mplt\u001b[0m\u001b[0;34m.\u001b[0m\u001b[0myaxis\u001b[0m\u001b[0;34m(\u001b[0m\u001b[0;34m\"F1 (Hz)\"\u001b[0m\u001b[0;34m)\u001b[0m\u001b[0;34m\u001b[0m\u001b[0;34m\u001b[0m\u001b[0m\n\u001b[0m\u001b[1;32m     34\u001b[0m     \u001b[0mplt\u001b[0m\u001b[0;34m.\u001b[0m\u001b[0mxaxis\u001b[0m\u001b[0;34m(\u001b[0m\u001b[0;34m\"F2 (Hz)\"\u001b[0m\u001b[0;34m)\u001b[0m\u001b[0;34m\u001b[0m\u001b[0;34m\u001b[0m\u001b[0m\n\u001b[1;32m     35\u001b[0m \u001b[0;34m\u001b[0m\u001b[0m\n",
      "\u001b[0;31mAttributeError\u001b[0m: module 'matplotlib.pyplot' has no attribute 'yaxis'"
     ]
    },
    {
     "data": {
      "image/png": "[encoded data removed]",
      "text/plain": [
       "<Figure size 720x720 with 1 Axes>"
      ]
     },
     "metadata": {},
     "output_type": "display_data"
    }
   ],
   "source": [
    "vowelplot(voweldata, color =\"F3\",logscale=True)"
   ]
  },
  {
   "cell_type": "code",
   "execution_count": null,
   "metadata": {},
   "outputs": [],
   "source": []
  }
 ],
 "metadata": {
  "kernelspec": {
   "display_name": "Python 3",
   "language": "python",
   "name": "python3"
  },
  "language_info": {
   "codemirror_mode": {
    "name": "ipython",
    "version": 3
   },
   "file_extension": ".py",
   "mimetype": "text/x-python",
   "name": "python",
   "nbconvert_exporter": "python",
   "pygments_lexer": "ipython3",
   "version": "3.8.6"
  }
 },
 "nbformat": 4,
 "nbformat_minor": 4
}
